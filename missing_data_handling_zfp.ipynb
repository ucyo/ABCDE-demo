{
 "cells": [
  {
   "cell_type": "markdown",
   "metadata": {},
   "source": [
    "# Artificial  gappy data\n",
    "\n",
    "We'll have a noisy gappy sine curve and see what `zfp` can do."
   ]
  },
  {
   "cell_type": "code",
   "execution_count": null,
   "metadata": {},
   "outputs": [],
   "source": [
    "import zfpy\n",
    "import numpy as np\n",
    "import pandas as pd\n",
    "import hvplot.pandas"
   ]
  },
  {
   "cell_type": "code",
   "execution_count": null,
   "metadata": {},
   "outputs": [],
   "source": [
    "N = 1000\n",
    "noise_level = 0.3\n",
    "signal_level = 1.0\n",
    "signal_periods = 10\n",
    "random_seed = 12345\n",
    "fraction_valid = 0.5\n",
    "zfpy_kwargs = {\"tolerance\": 1e-5}\n",
    "# zfpy_kwargs = {\"rate\": 10}\n",
    "# zfpy_kwargs = {\"precision\": 5}\n",
    "# zfpy_kwargs = {}  # lossless reference\n",
    "fill_value = -99"
   ]
  },
  {
   "cell_type": "code",
   "execution_count": null,
   "metadata": {},
   "outputs": [],
   "source": [
    "np.random.seed(random_seed)\n",
    "\n",
    "data = pd.DataFrame(dict(\n",
    "    noise=noise_level * np.random.normal(size=(N, )),\n",
    "    clean=signal_level * np.sin(np.linspace(0, signal_periods * 2 * np.pi, N)),\n",
    "    valid=fraction_valid > np.random.uniform(size=(N, ))\n",
    "))\n",
    "\n",
    "# add noisy data\n",
    "data[\"noisy\"] = data[\"clean\"] + data[\"noise\"]\n",
    "\n",
    "data"
   ]
  },
  {
   "cell_type": "code",
   "execution_count": null,
   "metadata": {},
   "outputs": [],
   "source": [
    "data[\"noisy\"].where(data[\"valid\"]).hvplot.line()"
   ]
  },
  {
   "cell_type": "markdown",
   "metadata": {},
   "source": [
    "## Scenario A\n",
    "\n",
    "Fill in invalid data with constant values, compress whole array, reconstruct whole arary, re-mask invalid values."
   ]
  },
  {
   "cell_type": "code",
   "execution_count": null,
   "metadata": {},
   "outputs": [],
   "source": [
    "noisy_orig_A = data[\"noisy\"].where(data[\"valid\"]).fillna(fill_value)"
   ]
  },
  {
   "cell_type": "code",
   "execution_count": null,
   "metadata": {},
   "outputs": [],
   "source": [
    "noisy_orig_A.hvplot()"
   ]
  },
  {
   "cell_type": "code",
   "execution_count": null,
   "metadata": {},
   "outputs": [],
   "source": [
    "noisy_comp_A = zfpy.compress_numpy(noisy_orig_A.to_numpy(), **zfpy_kwargs)\n",
    "rate_A = len(noisy_comp_A) / noisy_orig_A.to_numpy().nbytes\n",
    "print(f\"{rate_A:.2%}\")\n",
    "data[\"noisy_rec_A\"] = zfpy.decompress_numpy(noisy_comp_A)\n",
    "data[\"noisy_rec_A\"] = data[\"noisy_rec_A\"].where(data[\"valid\"])"
   ]
  },
  {
   "cell_type": "code",
   "execution_count": null,
   "metadata": {},
   "outputs": [],
   "source": [
    "(\n",
    "    noisy_orig_A.where(data[\"valid\"]).hvplot.line() \n",
    "    + data[\"noisy_rec_A\"].hvplot()\n",
    "    + (data[\"noisy_rec_A\"] - noisy_orig_A).where(data[\"valid\"]).hvplot(label=\"Error in reconstruction\")\n",
    ").cols(1)"
   ]
  },
  {
   "cell_type": "code",
   "execution_count": null,
   "metadata": {},
   "outputs": [],
   "source": [
    "is_nan = (data[\"noisy_rec_A\"] - noisy_orig_A).where(data[\"valid\"]).isna()\n",
    "is_smaller_than_tolerance = ((data[\"noisy_rec_A\"] - noisy_orig_A).where(data[\"valid\"]) < zfpy_kwargs['tolerance'])\n",
    "(is_nan | is_smaller_than_tolerance).all() == True"
   ]
  },
  {
   "cell_type": "markdown",
   "metadata": {},
   "source": [
    "## Scenario B\n",
    "\n",
    "Drop invalid data, compress and reconstruct only the valid sub array, re-apply old index to get full time series."
   ]
  },
  {
   "cell_type": "code",
   "execution_count": null,
   "metadata": {},
   "outputs": [],
   "source": [
    "noisy_orig_B = data[\"noisy\"].where(data[\"valid\"])\n",
    "\n",
    "display(noisy_orig_B.hvplot())\n",
    "\n",
    "noisy_orig_B = noisy_orig_B.dropna()"
   ]
  },
  {
   "cell_type": "code",
   "execution_count": null,
   "metadata": {},
   "outputs": [],
   "source": [
    "noisy_comp_B = zfpy.compress_numpy(noisy_orig_B.to_numpy(), **zfpy_kwargs)\n",
    "rate_B = len(noisy_comp_B) / N / 8\n",
    "print(f\"{rate_B:.2%}\")"
   ]
  },
  {
   "cell_type": "code",
   "execution_count": null,
   "metadata": {},
   "outputs": [],
   "source": [
    "data[\"noisy_rec_B\"] = zfpy.decompress_numpy(noisy_comp_B) + 0 * noisy_orig_B"
   ]
  },
  {
   "cell_type": "code",
   "execution_count": null,
   "metadata": {},
   "outputs": [],
   "source": [
    "(\n",
    "    data[\"noisy\"].where(data[\"valid\"]).hvplot() * data[\"noisy_rec_B\"].hvplot()\n",
    "    + (data[\"noisy_rec_B\"] - noisy_orig_B).where(data[\"valid\"]).hvplot()\n",
    ").cols(1)"
   ]
  },
  {
   "cell_type": "markdown",
   "metadata": {},
   "source": [
    "## Compare Scenarios"
   ]
  },
  {
   "cell_type": "code",
   "execution_count": null,
   "metadata": {},
   "outputs": [],
   "source": [
    "(\n",
    "    data[\"noisy_rec_B\"].hvplot() * data[\"noisy_rec_A\"].hvplot()\n",
    "    + (data[\"noisy_rec_B\"] - data[\"noisy_rec_A\"]).hvplot()\n",
    "    + (\n",
    "        abs(data[\"noisy_rec_B\"] - data[\"noisy\"]).hvplot.hist(alpha=0.5, bins=20, label=\"B\")\n",
    "        * abs(data[\"noisy_rec_A\"] - data[\"noisy\"]).hvplot.hist(alpha=0.5, bins=20, label=\"A\")\n",
    "    )\n",
    ").cols(1)"
   ]
  },
  {
   "cell_type": "markdown",
   "metadata": {},
   "source": [
    "# Results\n",
    "\n",
    "- There is no major difference between `Scenario A` and `B`. Why? Possible reasons:\n",
    "  - Randomized data is difficult to be compressed.\n",
    "  - Content fill_value is very important since these can be chosen related/unrelated to the data. (e.g. Range between -2,2 and fillvalue of 50)\n",
    "  - `zfp` does use transformation-based compression and not prediction-based compression.\n",
    "  - 1-dim vs n-dim data can show different results.\n",
    "\n",
    "# Todo\n",
    "\n",
    "- [ ] Test with n-dim climate/ocean model data output.\n",
    "- [ ] Test with prediction-based compression model.\n",
    "\n",
    "# Questions\n",
    "\n",
    "- How can we relate this to AI/ML-based methods?"
   ]
  },
  {
   "cell_type": "code",
   "execution_count": null,
   "metadata": {},
   "outputs": [],
   "source": []
  }
 ],
 "metadata": {
  "kernelspec": {
   "display_name": "Python 3",
   "language": "python",
   "name": "python3"
  },
  "language_info": {
   "codemirror_mode": {
    "name": "ipython",
    "version": 3
   },
   "file_extension": ".py",
   "mimetype": "text/x-python",
   "name": "python",
   "nbconvert_exporter": "python",
   "pygments_lexer": "ipython3",
   "version": "3.8.5"
  }
 },
 "nbformat": 4,
 "nbformat_minor": 4
}
